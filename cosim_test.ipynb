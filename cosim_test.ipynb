{
 "metadata": {
  "name": "",
  "signature": "sha256:14ec8fe07eece58d52b003b147908fc7761e941ad7a552b8108274d9afe66dfd"
 },
 "nbformat": 3,
 "nbformat_minor": 0,
 "worksheets": [
  {
   "cells": [
    {
     "cell_type": "code",
     "collapsed": false,
     "input": [
      "%load_ext autoreload\n",
      "%autoreload 2\n",
      "%matplotlib inline\n",
      "\n",
      "import fmusim2"
     ],
     "language": "python",
     "metadata": {},
     "outputs": [],
     "prompt_number": 1
    },
    {
     "cell_type": "code",
     "collapsed": false,
     "input": [
      "run fmusim_cosim.py"
     ],
     "language": "python",
     "metadata": {},
     "outputs": [
      {
       "output_type": "stream",
       "stream": "stdout",
       "text": [
        "FMI Version: 2.0\n",
        "typesplatform: default\n",
        "run co-simulation\n",
        "('x', '1.0')\n",
        "[('t', 'float'), ('x', 'float'), ('der(x)', 'float')]\n"
       ]
      },
      {
       "metadata": {},
       "output_type": "display_data",
       "png": "[encoded data removed]",
       "text": [
        "<matplotlib.figure.Figure at 0x7ff5534a49d0>"
       ]
      }
     ],
     "prompt_number": 94
    },
    {
     "cell_type": "code",
     "collapsed": false,
     "input": [
      "dtype"
     ],
     "language": "python",
     "metadata": {},
     "outputs": [
      {
       "metadata": {},
       "output_type": "pyout",
       "prompt_number": 95,
       "text": [
        "[('t', 'float'), ('x', 'float'), ('der(x)', 'float')]"
       ]
      }
     ],
     "prompt_number": 95
    },
    {
     "cell_type": "code",
     "collapsed": false,
     "input": [
      "r1"
     ],
     "language": "python",
     "metadata": {},
     "outputs": [
      {
       "metadata": {},
       "output_type": "pyout",
       "prompt_number": 66,
       "text": [
        "[(0.0, 6.2000000000000002, 3.1000000000000001),\n",
        " (1.0, 12.4, 6.2000000000000002),\n",
        " (2.0, 24.800000000000001, 12.4),\n",
        " (3.0, 49.600000000000001, 24.800000000000001),\n",
        " (4.0, 99.200000000000003, 49.600000000000001),\n",
        " (5.0, 198.40000000000001, 99.200000000000003),\n",
        " (6.0, 396.80000000000001, 198.40000000000001),\n",
        " (7.0, 793.60000000000002, 396.80000000000001),\n",
        " (8.0, 1587.2, 793.60000000000002),\n",
        " (9.0, 3174.4000000000001, 1587.2),\n",
        " (10.0, 6348.8000000000002, 3174.4000000000001)]"
       ]
      }
     ],
     "prompt_number": 66
    },
    {
     "cell_type": "code",
     "collapsed": false,
     "input": [
      "res = np.array(r1, dtype = dtype).view(np.recarray)"
     ],
     "language": "python",
     "metadata": {},
     "outputs": [],
     "prompt_number": 77
    },
    {
     "cell_type": "code",
     "collapsed": false,
     "input": [
      "res[list(res.dtype.names[1:])]"
     ],
     "language": "python",
     "metadata": {},
     "outputs": [
      {
       "metadata": {},
       "output_type": "pyout",
       "prompt_number": 91,
       "text": [
        "rec.array([(6.2, 3.1), (12.4, 6.2), (24.8, 12.4), (49.6, 24.8), (99.2, 49.6),\n",
        " (198.4, 99.2), (396.8, 198.4), (793.6, 396.8), (1587.2, 793.6),\n",
        " (3174.4, 1587.2), (6348.8, 3174.4)], \n",
        "          dtype=[('x', '<f8'), ('der(x)', '<f8')])"
       ]
      }
     ],
     "prompt_number": 91
    },
    {
     "cell_type": "code",
     "collapsed": false,
     "input": [
      "for name in res.dtype.names[1:]:\n",
      "    print(res[name], name)"
     ],
     "language": "python",
     "metadata": {},
     "outputs": [
      {
       "output_type": "stream",
       "stream": "stdout",
       "text": [
        "(array([  6.20000000e+00,   1.24000000e+01,   2.48000000e+01,\n",
        "         4.96000000e+01,   9.92000000e+01,   1.98400000e+02,\n",
        "         3.96800000e+02,   7.93600000e+02,   1.58720000e+03,\n",
        "         3.17440000e+03,   6.34880000e+03]), 'x')\n",
        "(array([  3.10000000e+00,   6.20000000e+00,   1.24000000e+01,\n",
        "         2.48000000e+01,   4.96000000e+01,   9.92000000e+01,\n",
        "         1.98400000e+02,   3.96800000e+02,   7.93600000e+02,\n",
        "         1.58720000e+03,   3.17440000e+03]), 'der(x)')\n"
       ]
      }
     ],
     "prompt_number": 92
    }
   ],
   "metadata": {}
  }
 ]
}